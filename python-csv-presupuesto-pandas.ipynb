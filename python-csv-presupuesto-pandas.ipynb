{
 "cells": [
  {
   "cell_type": "markdown",
   "metadata": {},
   "source": [
    "# Presupuesto Económico ingresos 2021"
   ]
  },
  {
   "cell_type": "markdown",
   "metadata": {},
   "source": [
    "## Instalar las librerías con las que vamos a estar trabajando\n",
    "Pandas es una biblioteca y libreria de python que sirve para el análisis de datos"
   ]
  },
  {
   "cell_type": "code",
   "execution_count": 25,
   "metadata": {},
   "outputs": [
    {
     "name": "stdout",
     "output_type": "stream",
     "text": [
      "Requirement already satisfied: pandas in /usr/local/lib/python3.8/dist-packages (1.3.1)\r\n",
      "Requirement already satisfied: pytz>=2017.3 in /usr/local/lib/python3.8/dist-packages (from pandas) (2020.4)\r\n",
      "Requirement already satisfied: numpy>=1.17.3 in /usr/local/lib/python3.8/dist-packages (from pandas) (1.21.1)\r\n",
      "Requirement already satisfied: python-dateutil>=2.7.3 in /usr/local/lib/python3.8/dist-packages (from pandas) (2.8.1)\r\n",
      "Requirement already satisfied: six>=1.5 in /usr/lib/python3/dist-packages (from python-dateutil>=2.7.3->pandas) (1.14.0)\r\n"
     ]
    }
   ],
   "source": [
    "!pip install pandas"
   ]
  },
  {
   "cell_type": "markdown",
   "metadata": {},
   "source": [
    "# Configuración de pandas\n",
    "importamos la libreria Panda y la renombramos como \"pd\" para utilizarlo en el resto del notebook y del trabajo que vamos a realizar"
   ]
  },
  {
   "cell_type": "code",
   "execution_count": 50,
   "metadata": {},
   "outputs": [],
   "source": [
    "import pandas as pd"
   ]
  },
  {
   "cell_type": "markdown",
   "metadata": {},
   "source": [
    "# Creación de variables \n",
    "creamos las variables que contienen los datos que vamos a usar mediante [`=`] "
   ]
  },
  {
   "cell_type": "code",
   "execution_count": 51,
   "metadata": {},
   "outputs": [],
   "source": [
    "url_presupuesto = \"https://datos.alcobendas.org/dataset/0be2930e-5aab-4790-9e81-2c5cdb6a995a/resource/fbadb8f2-5f7c-4425-b72b-356f53a48512/download/presupuesto-economico-ingresos-2021.-normalizado.csv\""
   ]
  },
  {
   "cell_type": "markdown",
   "metadata": {},
   "source": [
    "Ahora vamos a comprobar si la variable se ha creado correctamente "
   ]
  },
  {
   "cell_type": "code",
   "execution_count": 52,
   "metadata": {},
   "outputs": [
    {
     "data": {
      "text/plain": [
       "'https://datos.alcobendas.org/dataset/0be2930e-5aab-4790-9e81-2c5cdb6a995a/resource/fbadb8f2-5f7c-4425-b72b-356f53a48512/download/presupuesto-economico-ingresos-2021.-normalizado.csv'"
      ]
     },
     "execution_count": 52,
     "metadata": {},
     "output_type": "execute_result"
    }
   ],
   "source": [
    "url_presupuesto"
   ]
  },
  {
   "cell_type": "markdown",
   "metadata": {},
   "source": [
    "# Creación de un nuevo DataFrame"
   ]
  },
  {
   "cell_type": "markdown",
   "metadata": {},
   "source": [
    "Creamos un DataFrame de Pandas leyendo el csv de la base de datos. Un DataFrame en python es una estructura de datos con dos dimensiones en la cual se puede guardar datos de distintos tipos (como caractéres, enteros, valores de punto flotante, factores y más) en columnas, según la página web de [Trabaja con Pandas](https://datacarpentry.org/python-ecology-lesson-es/02-starting-with-data/#:~:text=Un%20DataFrame%20es%20una%20estructura,de%20SQL%20o%20el%20data.)\n"
   ]
  },
  {
   "cell_type": "code",
   "execution_count": 53,
   "metadata": {},
   "outputs": [],
   "source": [
    "df = pd.read_csv(url_presupuesto)"
   ]
  },
  {
   "cell_type": "markdown",
   "metadata": {},
   "source": [
    "A continuación vamos a mostrar el nuevo DataFrame creado"
   ]
  },
  {
   "cell_type": "code",
   "execution_count": 54,
   "metadata": {},
   "outputs": [
    {
     "data": {
      "text/html": [
       "<div>\n",
       "<style scoped>\n",
       "    .dataframe tbody tr th:only-of-type {\n",
       "        vertical-align: middle;\n",
       "    }\n",
       "\n",
       "    .dataframe tbody tr th {\n",
       "        vertical-align: top;\n",
       "    }\n",
       "\n",
       "    .dataframe thead th {\n",
       "        text-align: right;\n",
       "    }\n",
       "</style>\n",
       "<table border=\"1\" class=\"dataframe\">\n",
       "  <thead>\n",
       "    <tr style=\"text-align: right;\">\n",
       "      <th></th>\n",
       "      <th>Código</th>\n",
       "      <th>Nombre</th>\n",
       "      <th>Crédito inicial del ejercicio</th>\n",
       "    </tr>\n",
       "  </thead>\n",
       "  <tbody>\n",
       "    <tr>\n",
       "      <th>0</th>\n",
       "      <td>NaN</td>\n",
       "      <td>Clasificación económica de ingresos</td>\n",
       "      <td>1.427355e+08</td>\n",
       "    </tr>\n",
       "    <tr>\n",
       "      <th>1</th>\n",
       "      <td>1.0</td>\n",
       "      <td>IMPUESTOS DIRECTOS</td>\n",
       "      <td>7.992915e+07</td>\n",
       "    </tr>\n",
       "    <tr>\n",
       "      <th>2</th>\n",
       "      <td>10.0</td>\n",
       "      <td>Impuesto sobre la Renta</td>\n",
       "      <td>7.704034e+06</td>\n",
       "    </tr>\n",
       "    <tr>\n",
       "      <th>3</th>\n",
       "      <td>100.0</td>\n",
       "      <td>Impuestos sobre la Renta de las Personas Físicas</td>\n",
       "      <td>7.704034e+06</td>\n",
       "    </tr>\n",
       "    <tr>\n",
       "      <th>4</th>\n",
       "      <td>101.0</td>\n",
       "      <td>Impuesto sobre Sociedades</td>\n",
       "      <td>0.000000e+00</td>\n",
       "    </tr>\n",
       "    <tr>\n",
       "      <th>...</th>\n",
       "      <td>...</td>\n",
       "      <td>...</td>\n",
       "      <td>...</td>\n",
       "    </tr>\n",
       "    <tr>\n",
       "      <th>325</th>\n",
       "      <td>930.0</td>\n",
       "      <td>Préstamos recibidos en moneda distinta del eur...</td>\n",
       "      <td>0.000000e+00</td>\n",
       "    </tr>\n",
       "    <tr>\n",
       "      <th>326</th>\n",
       "      <td>931.0</td>\n",
       "      <td>Préstamos recibidos en moneda distinta del eur...</td>\n",
       "      <td>0.000000e+00</td>\n",
       "    </tr>\n",
       "    <tr>\n",
       "      <th>327</th>\n",
       "      <td>94.0</td>\n",
       "      <td>Depósitos y fianzas recibidos</td>\n",
       "      <td>0.000000e+00</td>\n",
       "    </tr>\n",
       "    <tr>\n",
       "      <th>328</th>\n",
       "      <td>940.0</td>\n",
       "      <td>Depósitos recibidos</td>\n",
       "      <td>0.000000e+00</td>\n",
       "    </tr>\n",
       "    <tr>\n",
       "      <th>329</th>\n",
       "      <td>941.0</td>\n",
       "      <td>Fianzas recibidas</td>\n",
       "      <td>0.000000e+00</td>\n",
       "    </tr>\n",
       "  </tbody>\n",
       "</table>\n",
       "<p>330 rows × 3 columns</p>\n",
       "</div>"
      ],
      "text/plain": [
       "     Código                                             Nombre  \\\n",
       "0       NaN                Clasificación económica de ingresos   \n",
       "1       1.0                                 IMPUESTOS DIRECTOS   \n",
       "2      10.0                            Impuesto sobre la Renta   \n",
       "3     100.0   Impuestos sobre la Renta de las Personas Físicas   \n",
       "4     101.0                          Impuesto sobre Sociedades   \n",
       "..      ...                                                ...   \n",
       "325   930.0  Préstamos recibidos en moneda distinta del eur...   \n",
       "326   931.0  Préstamos recibidos en moneda distinta del eur...   \n",
       "327    94.0                      Depósitos y fianzas recibidos   \n",
       "328   940.0                                Depósitos recibidos   \n",
       "329   941.0                                  Fianzas recibidas   \n",
       "\n",
       "     Crédito inicial del ejercicio  \n",
       "0                     1.427355e+08  \n",
       "1                     7.992915e+07  \n",
       "2                     7.704034e+06  \n",
       "3                     7.704034e+06  \n",
       "4                     0.000000e+00  \n",
       "..                             ...  \n",
       "325                   0.000000e+00  \n",
       "326                   0.000000e+00  \n",
       "327                   0.000000e+00  \n",
       "328                   0.000000e+00  \n",
       "329                   0.000000e+00  \n",
       "\n",
       "[330 rows x 3 columns]"
      ]
     },
     "execution_count": 54,
     "metadata": {},
     "output_type": "execute_result"
    }
   ],
   "source": [
    "df"
   ]
  },
  {
   "cell_type": "markdown",
   "metadata": {},
   "source": [
    "# Exploración del Dataframe"
   ]
  },
  {
   "cell_type": "markdown",
   "metadata": {},
   "source": [
    "## Información general"
   ]
  },
  {
   "cell_type": "markdown",
   "metadata": {},
   "source": [
    "Mediante [`df.info()`] es como se puede mostrar la información de la tabla "
   ]
  },
  {
   "cell_type": "markdown",
   "metadata": {},
   "source": [
    "En la información sobre el Dataframe de la tabla elegida se observa como incluye el indice (que es RangeIndex), además del número de tablas, el número de columnas que hay (Data columns) el nombre de las mismas (colum), la cantidad de los datos nulos que posee la tabla (esto se ve el non-null), el tipo de variable de las columnas (con dtype) y el tamaño (memory usage)."
   ]
  },
  {
   "cell_type": "code",
   "execution_count": 31,
   "metadata": {},
   "outputs": [
    {
     "name": "stdout",
     "output_type": "stream",
     "text": [
      "<class 'pandas.core.frame.DataFrame'>\n",
      "RangeIndex: 330 entries, 0 to 329\n",
      "Data columns (total 3 columns):\n",
      " #   Column                         Non-Null Count  Dtype  \n",
      "---  ------                         --------------  -----  \n",
      " 0   Código                         329 non-null    float64\n",
      " 1   Nombre                         330 non-null    object \n",
      " 2   Crédito inicial del ejercicio  330 non-null    float64\n",
      "dtypes: float64(2), object(1)\n",
      "memory usage: 7.9+ KB\n"
     ]
    }
   ],
   "source": [
    "df.info()"
   ]
  },
  {
   "cell_type": "markdown",
   "metadata": {},
   "source": [
    "## Cabecera"
   ]
  },
  {
   "cell_type": "markdown",
   "metadata": {},
   "source": [
    "Mediante [`df.head()`] se muestran las primeras entradas de la tabla y entre paréntesis se puede indicar cuantas entradas se quieren mostrar"
   ]
  },
  {
   "cell_type": "code",
   "execution_count": 32,
   "metadata": {},
   "outputs": [
    {
     "data": {
      "text/html": [
       "<div>\n",
       "<style scoped>\n",
       "    .dataframe tbody tr th:only-of-type {\n",
       "        vertical-align: middle;\n",
       "    }\n",
       "\n",
       "    .dataframe tbody tr th {\n",
       "        vertical-align: top;\n",
       "    }\n",
       "\n",
       "    .dataframe thead th {\n",
       "        text-align: right;\n",
       "    }\n",
       "</style>\n",
       "<table border=\"1\" class=\"dataframe\">\n",
       "  <thead>\n",
       "    <tr style=\"text-align: right;\">\n",
       "      <th></th>\n",
       "      <th>Código</th>\n",
       "      <th>Nombre</th>\n",
       "      <th>Crédito inicial del ejercicio</th>\n",
       "    </tr>\n",
       "  </thead>\n",
       "  <tbody>\n",
       "    <tr>\n",
       "      <th>0</th>\n",
       "      <td>NaN</td>\n",
       "      <td>Clasificación económica de ingresos</td>\n",
       "      <td>1.427355e+08</td>\n",
       "    </tr>\n",
       "    <tr>\n",
       "      <th>1</th>\n",
       "      <td>1.0</td>\n",
       "      <td>IMPUESTOS DIRECTOS</td>\n",
       "      <td>7.992915e+07</td>\n",
       "    </tr>\n",
       "    <tr>\n",
       "      <th>2</th>\n",
       "      <td>10.0</td>\n",
       "      <td>Impuesto sobre la Renta</td>\n",
       "      <td>7.704034e+06</td>\n",
       "    </tr>\n",
       "    <tr>\n",
       "      <th>3</th>\n",
       "      <td>100.0</td>\n",
       "      <td>Impuestos sobre la Renta de las Personas Físicas</td>\n",
       "      <td>7.704034e+06</td>\n",
       "    </tr>\n",
       "    <tr>\n",
       "      <th>4</th>\n",
       "      <td>101.0</td>\n",
       "      <td>Impuesto sobre Sociedades</td>\n",
       "      <td>0.000000e+00</td>\n",
       "    </tr>\n",
       "  </tbody>\n",
       "</table>\n",
       "</div>"
      ],
      "text/plain": [
       "   Código                                            Nombre  \\\n",
       "0     NaN               Clasificación económica de ingresos   \n",
       "1     1.0                                IMPUESTOS DIRECTOS   \n",
       "2    10.0                           Impuesto sobre la Renta   \n",
       "3   100.0  Impuestos sobre la Renta de las Personas Físicas   \n",
       "4   101.0                         Impuesto sobre Sociedades   \n",
       "\n",
       "   Crédito inicial del ejercicio  \n",
       "0                   1.427355e+08  \n",
       "1                   7.992915e+07  \n",
       "2                   7.704034e+06  \n",
       "3                   7.704034e+06  \n",
       "4                   0.000000e+00  "
      ]
     },
     "execution_count": 32,
     "metadata": {},
     "output_type": "execute_result"
    }
   ],
   "source": [
    "df.head()"
   ]
  },
  {
   "cell_type": "markdown",
   "metadata": {},
   "source": [
    "## Cola"
   ]
  },
  {
   "cell_type": "markdown",
   "metadata": {},
   "source": [
    "Ahora hay que mostrar las últimas entradas de la tabla (tail) mediante [`df.tail()`]"
   ]
  },
  {
   "cell_type": "markdown",
   "metadata": {},
   "source": [
    "De nuevo, entre paréntesis se puede especificar el numero de entradas que se quiere mostrar"
   ]
  },
  {
   "cell_type": "code",
   "execution_count": 33,
   "metadata": {},
   "outputs": [
    {
     "data": {
      "text/html": [
       "<div>\n",
       "<style scoped>\n",
       "    .dataframe tbody tr th:only-of-type {\n",
       "        vertical-align: middle;\n",
       "    }\n",
       "\n",
       "    .dataframe tbody tr th {\n",
       "        vertical-align: top;\n",
       "    }\n",
       "\n",
       "    .dataframe thead th {\n",
       "        text-align: right;\n",
       "    }\n",
       "</style>\n",
       "<table border=\"1\" class=\"dataframe\">\n",
       "  <thead>\n",
       "    <tr style=\"text-align: right;\">\n",
       "      <th></th>\n",
       "      <th>Código</th>\n",
       "      <th>Nombre</th>\n",
       "      <th>Crédito inicial del ejercicio</th>\n",
       "    </tr>\n",
       "  </thead>\n",
       "  <tbody>\n",
       "    <tr>\n",
       "      <th>325</th>\n",
       "      <td>930.0</td>\n",
       "      <td>Préstamos recibidos en moneda distinta del eur...</td>\n",
       "      <td>0.0</td>\n",
       "    </tr>\n",
       "    <tr>\n",
       "      <th>326</th>\n",
       "      <td>931.0</td>\n",
       "      <td>Préstamos recibidos en moneda distinta del eur...</td>\n",
       "      <td>0.0</td>\n",
       "    </tr>\n",
       "    <tr>\n",
       "      <th>327</th>\n",
       "      <td>94.0</td>\n",
       "      <td>Depósitos y fianzas recibidos</td>\n",
       "      <td>0.0</td>\n",
       "    </tr>\n",
       "    <tr>\n",
       "      <th>328</th>\n",
       "      <td>940.0</td>\n",
       "      <td>Depósitos recibidos</td>\n",
       "      <td>0.0</td>\n",
       "    </tr>\n",
       "    <tr>\n",
       "      <th>329</th>\n",
       "      <td>941.0</td>\n",
       "      <td>Fianzas recibidas</td>\n",
       "      <td>0.0</td>\n",
       "    </tr>\n",
       "  </tbody>\n",
       "</table>\n",
       "</div>"
      ],
      "text/plain": [
       "     Código                                             Nombre  \\\n",
       "325   930.0  Préstamos recibidos en moneda distinta del eur...   \n",
       "326   931.0  Préstamos recibidos en moneda distinta del eur...   \n",
       "327    94.0                      Depósitos y fianzas recibidos   \n",
       "328   940.0                                Depósitos recibidos   \n",
       "329   941.0                                  Fianzas recibidas   \n",
       "\n",
       "     Crédito inicial del ejercicio  \n",
       "325                            0.0  \n",
       "326                            0.0  \n",
       "327                            0.0  \n",
       "328                            0.0  \n",
       "329                            0.0  "
      ]
     },
     "execution_count": 33,
     "metadata": {},
     "output_type": "execute_result"
    }
   ],
   "source": [
    "df.tail()"
   ]
  },
  {
   "cell_type": "markdown",
   "metadata": {},
   "source": [
    "## Columnas"
   ]
  },
  {
   "cell_type": "markdown",
   "metadata": {},
   "source": [
    "Se puede mostrar el nombre de las columnas mediante [`df.columns`]"
   ]
  },
  {
   "cell_type": "code",
   "execution_count": 34,
   "metadata": {},
   "outputs": [
    {
     "data": {
      "text/plain": [
       "Index(['Código', 'Nombre', 'Crédito inicial del ejercicio'], dtype='object')"
      ]
     },
     "execution_count": 34,
     "metadata": {},
     "output_type": "execute_result"
    }
   ],
   "source": [
    "df.columns"
   ]
  },
  {
   "cell_type": "markdown",
   "metadata": {},
   "source": [
    "También se pueden mostrar columnas en concreto mediante  `df['nombre de la columna']`"
   ]
  },
  {
   "cell_type": "markdown",
   "metadata": {},
   "source": [
    "A continuación se ejemplifica con una de las columnas \"Crédito inicial del ejercicio\" "
   ]
  },
  {
   "cell_type": "code",
   "execution_count": 35,
   "metadata": {},
   "outputs": [
    {
     "data": {
      "text/plain": [
       "0      1.427355e+08\n",
       "1      7.992915e+07\n",
       "2      7.704034e+06\n",
       "3      7.704034e+06\n",
       "4      0.000000e+00\n",
       "           ...     \n",
       "325    0.000000e+00\n",
       "326    0.000000e+00\n",
       "327    0.000000e+00\n",
       "328    0.000000e+00\n",
       "329    0.000000e+00\n",
       "Name: Crédito inicial del ejercicio, Length: 330, dtype: float64"
      ]
     },
     "execution_count": 35,
     "metadata": {},
     "output_type": "execute_result"
    }
   ],
   "source": [
    "df['Crédito inicial del ejercicio']"
   ]
  },
  {
   "cell_type": "markdown",
   "metadata": {},
   "source": [
    "También se puede mostrar un número de fila cualquiera "
   ]
  },
  {
   "cell_type": "code",
   "execution_count": 36,
   "metadata": {},
   "outputs": [
    {
     "data": {
      "text/plain": [
       "7704033.82"
      ]
     },
     "execution_count": 36,
     "metadata": {},
     "output_type": "execute_result"
    }
   ],
   "source": [
    "df['Crédito inicial del ejercicio'][2]"
   ]
  },
  {
   "cell_type": "markdown",
   "metadata": {},
   "source": [
    "## Ahora se muestran las variables estadísticas"
   ]
  },
  {
   "cell_type": "markdown",
   "metadata": {},
   "source": [
    "Mediante [`df.describe()`] se muestran las variables estadísticas del dataframe, algo que no se muestra normalmente"
   ]
  },
  {
   "cell_type": "code",
   "execution_count": 37,
   "metadata": {},
   "outputs": [
    {
     "data": {
      "text/html": [
       "<div>\n",
       "<style scoped>\n",
       "    .dataframe tbody tr th:only-of-type {\n",
       "        vertical-align: middle;\n",
       "    }\n",
       "\n",
       "    .dataframe tbody tr th {\n",
       "        vertical-align: top;\n",
       "    }\n",
       "\n",
       "    .dataframe thead th {\n",
       "        text-align: right;\n",
       "    }\n",
       "</style>\n",
       "<table border=\"1\" class=\"dataframe\">\n",
       "  <thead>\n",
       "    <tr style=\"text-align: right;\">\n",
       "      <th></th>\n",
       "      <th>Código</th>\n",
       "      <th>Crédito inicial del ejercicio</th>\n",
       "    </tr>\n",
       "  </thead>\n",
       "  <tbody>\n",
       "    <tr>\n",
       "      <th>count</th>\n",
       "      <td>329.000000</td>\n",
       "      <td>3.300000e+02</td>\n",
       "    </tr>\n",
       "    <tr>\n",
       "      <th>mean</th>\n",
       "      <td>403.929514</td>\n",
       "      <td>1.814044e+06</td>\n",
       "    </tr>\n",
       "    <tr>\n",
       "      <th>std</th>\n",
       "      <td>275.541759</td>\n",
       "      <td>1.024341e+07</td>\n",
       "    </tr>\n",
       "    <tr>\n",
       "      <th>min</th>\n",
       "      <td>1.000000</td>\n",
       "      <td>0.000000e+00</td>\n",
       "    </tr>\n",
       "    <tr>\n",
       "      <th>25%</th>\n",
       "      <td>115.000000</td>\n",
       "      <td>0.000000e+00</td>\n",
       "    </tr>\n",
       "    <tr>\n",
       "      <th>50%</th>\n",
       "      <td>394.000000</td>\n",
       "      <td>0.000000e+00</td>\n",
       "    </tr>\n",
       "    <tr>\n",
       "      <th>75%</th>\n",
       "      <td>600.000000</td>\n",
       "      <td>8.100000e+01</td>\n",
       "    </tr>\n",
       "    <tr>\n",
       "      <th>max</th>\n",
       "      <td>941.000000</td>\n",
       "      <td>1.427355e+08</td>\n",
       "    </tr>\n",
       "  </tbody>\n",
       "</table>\n",
       "</div>"
      ],
      "text/plain": [
       "           Código  Crédito inicial del ejercicio\n",
       "count  329.000000                   3.300000e+02\n",
       "mean   403.929514                   1.814044e+06\n",
       "std    275.541759                   1.024341e+07\n",
       "min      1.000000                   0.000000e+00\n",
       "25%    115.000000                   0.000000e+00\n",
       "50%    394.000000                   0.000000e+00\n",
       "75%    600.000000                   8.100000e+01\n",
       "max    941.000000                   1.427355e+08"
      ]
     },
     "execution_count": 37,
     "metadata": {},
     "output_type": "execute_result"
    }
   ],
   "source": [
    "df.describe()"
   ]
  },
  {
   "cell_type": "markdown",
   "metadata": {},
   "source": [
    "## Indexar el Dataframe según una columna "
   ]
  },
  {
   "cell_type": "markdown",
   "metadata": {},
   "source": [
    "También es posible indexar u ordenar los datos en función de una columna mediante [`df.set_index('')`]"
   ]
  },
  {
   "cell_type": "markdown",
   "metadata": {},
   "source": [
    "En este caso se indexa u ordena el dataframe según la columna \"Nombre\""
   ]
  },
  {
   "cell_type": "code",
   "execution_count": 38,
   "metadata": {},
   "outputs": [
    {
     "data": {
      "text/html": [
       "<div>\n",
       "<style scoped>\n",
       "    .dataframe tbody tr th:only-of-type {\n",
       "        vertical-align: middle;\n",
       "    }\n",
       "\n",
       "    .dataframe tbody tr th {\n",
       "        vertical-align: top;\n",
       "    }\n",
       "\n",
       "    .dataframe thead th {\n",
       "        text-align: right;\n",
       "    }\n",
       "</style>\n",
       "<table border=\"1\" class=\"dataframe\">\n",
       "  <thead>\n",
       "    <tr style=\"text-align: right;\">\n",
       "      <th></th>\n",
       "      <th>Código</th>\n",
       "      <th>Crédito inicial del ejercicio</th>\n",
       "    </tr>\n",
       "    <tr>\n",
       "      <th>Nombre</th>\n",
       "      <th></th>\n",
       "      <th></th>\n",
       "    </tr>\n",
       "  </thead>\n",
       "  <tbody>\n",
       "    <tr>\n",
       "      <th>Clasificación económica de ingresos</th>\n",
       "      <td>NaN</td>\n",
       "      <td>1.427355e+08</td>\n",
       "    </tr>\n",
       "    <tr>\n",
       "      <th>IMPUESTOS DIRECTOS</th>\n",
       "      <td>1.0</td>\n",
       "      <td>7.992915e+07</td>\n",
       "    </tr>\n",
       "    <tr>\n",
       "      <th>Impuesto sobre la Renta</th>\n",
       "      <td>10.0</td>\n",
       "      <td>7.704034e+06</td>\n",
       "    </tr>\n",
       "    <tr>\n",
       "      <th>Impuestos sobre la Renta de las Personas Físicas</th>\n",
       "      <td>100.0</td>\n",
       "      <td>7.704034e+06</td>\n",
       "    </tr>\n",
       "    <tr>\n",
       "      <th>Impuesto sobre Sociedades</th>\n",
       "      <td>101.0</td>\n",
       "      <td>0.000000e+00</td>\n",
       "    </tr>\n",
       "    <tr>\n",
       "      <th>...</th>\n",
       "      <td>...</td>\n",
       "      <td>...</td>\n",
       "    </tr>\n",
       "    <tr>\n",
       "      <th>Préstamos recibidos en moneda distinta del euro a corto plazo</th>\n",
       "      <td>930.0</td>\n",
       "      <td>0.000000e+00</td>\n",
       "    </tr>\n",
       "    <tr>\n",
       "      <th>Préstamos recibidos en moneda distinta del euro a largo plazo</th>\n",
       "      <td>931.0</td>\n",
       "      <td>0.000000e+00</td>\n",
       "    </tr>\n",
       "    <tr>\n",
       "      <th>Depósitos y fianzas recibidos</th>\n",
       "      <td>94.0</td>\n",
       "      <td>0.000000e+00</td>\n",
       "    </tr>\n",
       "    <tr>\n",
       "      <th>Depósitos recibidos</th>\n",
       "      <td>940.0</td>\n",
       "      <td>0.000000e+00</td>\n",
       "    </tr>\n",
       "    <tr>\n",
       "      <th>Fianzas recibidas</th>\n",
       "      <td>941.0</td>\n",
       "      <td>0.000000e+00</td>\n",
       "    </tr>\n",
       "  </tbody>\n",
       "</table>\n",
       "<p>330 rows × 2 columns</p>\n",
       "</div>"
      ],
      "text/plain": [
       "                                                    Código  \\\n",
       "Nombre                                                       \n",
       "Clasificación económica de ingresos                    NaN   \n",
       "IMPUESTOS DIRECTOS                                     1.0   \n",
       "Impuesto sobre la Renta                               10.0   \n",
       "Impuestos sobre la Renta de las Personas Físicas     100.0   \n",
       "Impuesto sobre Sociedades                            101.0   \n",
       "...                                                    ...   \n",
       "Préstamos recibidos en moneda distinta del euro...   930.0   \n",
       "Préstamos recibidos en moneda distinta del euro...   931.0   \n",
       "Depósitos y fianzas recibidos                         94.0   \n",
       "Depósitos recibidos                                  940.0   \n",
       "Fianzas recibidas                                    941.0   \n",
       "\n",
       "                                                    Crédito inicial del ejercicio  \n",
       "Nombre                                                                             \n",
       "Clasificación económica de ingresos                                  1.427355e+08  \n",
       "IMPUESTOS DIRECTOS                                                   7.992915e+07  \n",
       "Impuesto sobre la Renta                                              7.704034e+06  \n",
       "Impuestos sobre la Renta de las Personas Físicas                     7.704034e+06  \n",
       "Impuesto sobre Sociedades                                            0.000000e+00  \n",
       "...                                                                           ...  \n",
       "Préstamos recibidos en moneda distinta del euro...                   0.000000e+00  \n",
       "Préstamos recibidos en moneda distinta del euro...                   0.000000e+00  \n",
       "Depósitos y fianzas recibidos                                        0.000000e+00  \n",
       "Depósitos recibidos                                                  0.000000e+00  \n",
       "Fianzas recibidas                                                    0.000000e+00  \n",
       "\n",
       "[330 rows x 2 columns]"
      ]
     },
     "execution_count": 38,
     "metadata": {},
     "output_type": "execute_result"
    }
   ],
   "source": [
    "df.set_index('Nombre')"
   ]
  },
  {
   "cell_type": "code",
   "execution_count": 39,
   "metadata": {},
   "outputs": [
    {
     "data": {
      "text/plain": [
       "Nombre\n",
       "Clasificación económica de ingresos                              1.427355e+08\n",
       "IMPUESTOS DIRECTOS                                               7.992915e+07\n",
       "Impuesto sobre la Renta                                          7.704034e+06\n",
       "Impuestos sobre la Renta de las Personas Físicas                 7.704034e+06\n",
       "Impuesto sobre Sociedades                                        0.000000e+00\n",
       "                                                                     ...     \n",
       "Préstamos recibidos en moneda distinta del euro a corto plazo    0.000000e+00\n",
       "Préstamos recibidos en moneda distinta del euro a largo plazo    0.000000e+00\n",
       "Depósitos y fianzas recibidos                                    0.000000e+00\n",
       "Depósitos recibidos                                              0.000000e+00\n",
       "Fianzas recibidas                                                0.000000e+00\n",
       "Name: Crédito inicial del ejercicio, Length: 330, dtype: float64"
      ]
     },
     "execution_count": 39,
     "metadata": {},
     "output_type": "execute_result"
    }
   ],
   "source": [
    "df.set_index('Nombre')['Crédito inicial del ejercicio']"
   ]
  },
  {
   "cell_type": "markdown",
   "metadata": {},
   "source": [
    "## Creación del gráfico a partir de la varibale \"Nombre\" y de la otra variable \"Crédito inicial del ejercicio\""
   ]
  },
  {
   "cell_type": "markdown",
   "metadata": {},
   "source": [
    "Una vez indexados los datos segun la variable de \"nombre\" y también la variable de \"crédito inicial del ejercicio\" mediante [`.plot`] se muestran los datos en un gráfico"
   ]
  },
  {
   "cell_type": "markdown",
   "metadata": {},
   "source": [
    "Ahora si añadimos [`title=`] como el argumento de .plot se le pone el nombre al gráfico "
   ]
  },
  {
   "cell_type": "code",
   "execution_count": 40,
   "metadata": {},
   "outputs": [
    {
     "data": {
      "text/plain": [
       "<AxesSubplot:title={'center':'Crédito inicial del ejercicio'}, xlabel='Nombre'>"
      ]
     },
     "execution_count": 40,
     "metadata": {},
     "output_type": "execute_result"
    },
    {
     "data": {
      "image/png": "[encoded data removed]",
      "text/plain": [
       "<Figure size 432x288 with 1 Axes>"
      ]
     },
     "metadata": {
      "needs_background": "light"
     },
     "output_type": "display_data"
    }
   ],
   "source": [
    "df.set_index('Nombre')['Crédito inicial del ejercicio'].plot(title=\"Crédito inicial del ejercicio\")"
   ]
  },
  {
   "cell_type": "markdown",
   "metadata": {},
   "source": [
    "## Ahora vamos a realizar otro gráfico a partir de la elección de otras variables "
   ]
  },
  {
   "cell_type": "markdown",
   "metadata": {},
   "source": [
    "Vamos a elegir \"Nombre\" y \"Código\" y se van a indexar estos datos"
   ]
  },
  {
   "cell_type": "code",
   "execution_count": 42,
   "metadata": {},
   "outputs": [
    {
     "data": {
      "text/plain": [
       "Nombre\n",
       "Clasificación económica de ingresos                                NaN\n",
       "IMPUESTOS DIRECTOS                                                 1.0\n",
       "Impuesto sobre la Renta                                           10.0\n",
       "Impuestos sobre la Renta de las Personas Físicas                 100.0\n",
       "Impuesto sobre Sociedades                                        101.0\n",
       "                                                                 ...  \n",
       "Préstamos recibidos en moneda distinta del euro a corto plazo    930.0\n",
       "Préstamos recibidos en moneda distinta del euro a largo plazo    931.0\n",
       "Depósitos y fianzas recibidos                                     94.0\n",
       "Depósitos recibidos                                              940.0\n",
       "Fianzas recibidas                                                941.0\n",
       "Name: Código, Length: 330, dtype: float64"
      ]
     },
     "execution_count": 42,
     "metadata": {},
     "output_type": "execute_result"
    }
   ],
   "source": [
    "df.set_index('Nombre')['Código'] "
   ]
  },
  {
   "cell_type": "markdown",
   "metadata": {},
   "source": [
    "## A continuación vamos a hacer el gráfico mediante estos datos"
   ]
  },
  {
   "cell_type": "markdown",
   "metadata": {},
   "source": [
    "Una vez indexados los datos nuevos des la variable de \"nombre\" y también la variable de \"código\" mediante [.plot] se muestran los datos en un gráfico"
   ]
  },
  {
   "cell_type": "markdown",
   "metadata": {},
   "source": [
    "Y ahora, al igual que se ha hecho antes vamos a mostrar el gráfico con los nuevos datos"
   ]
  },
  {
   "cell_type": "code",
   "execution_count": 44,
   "metadata": {},
   "outputs": [
    {
     "data": {
      "text/plain": [
       "<AxesSubplot:title={'center':'Código'}, xlabel='Nombre'>"
      ]
     },
     "execution_count": 44,
     "metadata": {},
     "output_type": "execute_result"
    },
    {
     "data": {
      "image/png": "[encoded data removed]",
      "text/plain": [
       "<Figure size 432x288 with 1 Axes>"
      ]
     },
     "metadata": {
      "needs_background": "light"
     },
     "output_type": "display_data"
    }
   ],
   "source": [
    "df.set_index('Nombre')['Código'].plot(title=\"Código\")"
   ]
  },
  {
   "cell_type": "markdown",
   "metadata": {},
   "source": [
    "## Comparación entre los datos de Código y el Crédito incial del ejercicio"
   ]
  },
  {
   "cell_type": "markdown",
   "metadata": {},
   "source": [
    "Ahora lo que se va a hacer es comparar ambos datos en base al nombre "
   ]
  },
  {
   "cell_type": "markdown",
   "metadata": {},
   "source": [
    "Para poder realizar esto es necesario definir dos nuevas variables"
   ]
  },
  {
   "cell_type": "code",
   "execution_count": 45,
   "metadata": {},
   "outputs": [],
   "source": [
    "codigo = df.set_index('Nombre')['Código']\n",
    "credito_incial = df.set_index('Nombre')['Crédito inicial del ejercicio']"
   ]
  },
  {
   "cell_type": "markdown",
   "metadata": {},
   "source": [
    "Antes de creae el Dataframe y el correspondiente gráfico hay que concatenarlos mediante [vs]"
   ]
  },
  {
   "cell_type": "code",
   "execution_count": 48,
   "metadata": {},
   "outputs": [
    {
     "data": {
      "text/html": [
       "<div>\n",
       "<style scoped>\n",
       "    .dataframe tbody tr th:only-of-type {\n",
       "        vertical-align: middle;\n",
       "    }\n",
       "\n",
       "    .dataframe tbody tr th {\n",
       "        vertical-align: top;\n",
       "    }\n",
       "\n",
       "    .dataframe thead th {\n",
       "        text-align: right;\n",
       "    }\n",
       "</style>\n",
       "<table border=\"1\" class=\"dataframe\">\n",
       "  <thead>\n",
       "    <tr style=\"text-align: right;\">\n",
       "      <th></th>\n",
       "      <th>Código</th>\n",
       "      <th>Crédito inicial del ejercicio</th>\n",
       "    </tr>\n",
       "    <tr>\n",
       "      <th>Nombre</th>\n",
       "      <th></th>\n",
       "      <th></th>\n",
       "    </tr>\n",
       "  </thead>\n",
       "  <tbody>\n",
       "    <tr>\n",
       "      <th>Clasificación económica de ingresos</th>\n",
       "      <td>NaN</td>\n",
       "      <td>1.427355e+08</td>\n",
       "    </tr>\n",
       "    <tr>\n",
       "      <th>IMPUESTOS DIRECTOS</th>\n",
       "      <td>1.0</td>\n",
       "      <td>7.992915e+07</td>\n",
       "    </tr>\n",
       "    <tr>\n",
       "      <th>Impuesto sobre la Renta</th>\n",
       "      <td>10.0</td>\n",
       "      <td>7.704034e+06</td>\n",
       "    </tr>\n",
       "    <tr>\n",
       "      <th>Impuestos sobre la Renta de las Personas Físicas</th>\n",
       "      <td>100.0</td>\n",
       "      <td>7.704034e+06</td>\n",
       "    </tr>\n",
       "    <tr>\n",
       "      <th>Impuesto sobre Sociedades</th>\n",
       "      <td>101.0</td>\n",
       "      <td>0.000000e+00</td>\n",
       "    </tr>\n",
       "    <tr>\n",
       "      <th>...</th>\n",
       "      <td>...</td>\n",
       "      <td>...</td>\n",
       "    </tr>\n",
       "    <tr>\n",
       "      <th>Préstamos recibidos en moneda distinta del euro a corto plazo</th>\n",
       "      <td>930.0</td>\n",
       "      <td>0.000000e+00</td>\n",
       "    </tr>\n",
       "    <tr>\n",
       "      <th>Préstamos recibidos en moneda distinta del euro a largo plazo</th>\n",
       "      <td>931.0</td>\n",
       "      <td>0.000000e+00</td>\n",
       "    </tr>\n",
       "    <tr>\n",
       "      <th>Depósitos y fianzas recibidos</th>\n",
       "      <td>94.0</td>\n",
       "      <td>0.000000e+00</td>\n",
       "    </tr>\n",
       "    <tr>\n",
       "      <th>Depósitos recibidos</th>\n",
       "      <td>940.0</td>\n",
       "      <td>0.000000e+00</td>\n",
       "    </tr>\n",
       "    <tr>\n",
       "      <th>Fianzas recibidas</th>\n",
       "      <td>941.0</td>\n",
       "      <td>0.000000e+00</td>\n",
       "    </tr>\n",
       "  </tbody>\n",
       "</table>\n",
       "<p>330 rows × 2 columns</p>\n",
       "</div>"
      ],
      "text/plain": [
       "                                                    Código  \\\n",
       "Nombre                                                       \n",
       "Clasificación económica de ingresos                    NaN   \n",
       "IMPUESTOS DIRECTOS                                     1.0   \n",
       "Impuesto sobre la Renta                               10.0   \n",
       "Impuestos sobre la Renta de las Personas Físicas     100.0   \n",
       "Impuesto sobre Sociedades                            101.0   \n",
       "...                                                    ...   \n",
       "Préstamos recibidos en moneda distinta del euro...   930.0   \n",
       "Préstamos recibidos en moneda distinta del euro...   931.0   \n",
       "Depósitos y fianzas recibidos                         94.0   \n",
       "Depósitos recibidos                                  940.0   \n",
       "Fianzas recibidas                                    941.0   \n",
       "\n",
       "                                                    Crédito inicial del ejercicio  \n",
       "Nombre                                                                             \n",
       "Clasificación económica de ingresos                                  1.427355e+08  \n",
       "IMPUESTOS DIRECTOS                                                   7.992915e+07  \n",
       "Impuesto sobre la Renta                                              7.704034e+06  \n",
       "Impuestos sobre la Renta de las Personas Físicas                     7.704034e+06  \n",
       "Impuesto sobre Sociedades                                            0.000000e+00  \n",
       "...                                                                           ...  \n",
       "Préstamos recibidos en moneda distinta del euro...                   0.000000e+00  \n",
       "Préstamos recibidos en moneda distinta del euro...                   0.000000e+00  \n",
       "Depósitos y fianzas recibidos                                        0.000000e+00  \n",
       "Depósitos recibidos                                                  0.000000e+00  \n",
       "Fianzas recibidas                                                    0.000000e+00  \n",
       "\n",
       "[330 rows x 2 columns]"
      ]
     },
     "execution_count": 48,
     "metadata": {},
     "output_type": "execute_result"
    }
   ],
   "source": [
    "vs = pd.concat([codigo,credito_incial],axis=1)\n",
    "vs"
   ]
  },
  {
   "cell_type": "markdown",
   "metadata": {},
   "source": [
    "## Creación de un gráfico de comparación "
   ]
  },
  {
   "cell_type": "markdown",
   "metadata": {},
   "source": [
    "Ahora que ya estan los datos concatenados vamos a realizar la comparación mediante la creación de un gráfico"
   ]
  },
  {
   "cell_type": "code",
   "execution_count": 49,
   "metadata": {},
   "outputs": [
    {
     "data": {
      "text/plain": [
       "<AxesSubplot:title={'center':'codigo vs credito_inicial'}, xlabel='Nombre'>"
      ]
     },
     "execution_count": 49,
     "metadata": {},
     "output_type": "execute_result"
    },
    {
     "data": {
      "image/png": "[encoded data removed]",
      "text/plain": [
       "<Figure size 432x288 with 1 Axes>"
      ]
     },
     "metadata": {
      "needs_background": "light"
     },
     "output_type": "display_data"
    }
   ],
   "source": [
    "vs.columns =['Crédito inicial del ejercicio', 'Código']\n",
    "vs.plot(title=\"codigo vs credito_inicial\")"
   ]
  },
  {
   "cell_type": "markdown",
   "metadata": {},
   "source": [
    "## Guardamos en un CSV"
   ]
  },
  {
   "cell_type": "markdown",
   "metadata": {},
   "source": [
    "Ahora es cuando todo lo que hemos hecho hay que guardarlo en el archivo csv"
   ]
  },
  {
   "cell_type": "code",
   "execution_count": 55,
   "metadata": {},
   "outputs": [],
   "source": [
    "vs.to_csv('presupuesto.csv')"
   ]
  },
  {
   "cell_type": "markdown",
   "metadata": {},
   "source": [
    "Ahora tenemos que comprobar si el archivo se ha creado con [`ls`] y al ser esta opción un comando de bash se pone [`!`] para asi poder usarlo"
   ]
  },
  {
   "cell_type": "code",
   "execution_count": 56,
   "metadata": {},
   "outputs": [
    {
     "name": "stdout",
     "output_type": "stream",
     "text": [
      "API-pandas-folium.ipynb\t\t probando-con-r.ipynb\r\n",
      "escit.png\t\t\t python-csv-encuesta-pandas.ipynb\r\n",
      "esvit.csv\t\t\t Shared_Resources\r\n",
      "phyton-api-covid19-pandas.ipynb  Untitled1.ipynb\r\n",
      "presupuesto.csv\t\t\t Untitled.ipynb\r\n"
     ]
    }
   ],
   "source": [
    "!ls"
   ]
  },
  {
   "cell_type": "markdown",
   "metadata": {},
   "source": [
    "Importamos ahora matplotlib.pyplot y lo nombramos como plt"
   ]
  },
  {
   "cell_type": "code",
   "execution_count": 57,
   "metadata": {},
   "outputs": [
    {
     "data": {
      "image/png": "[encoded data removed]",
      "text/plain": [
       "<Figure size 432x288 with 1 Axes>"
      ]
     },
     "metadata": {
      "needs_background": "light"
     },
     "output_type": "display_data"
    }
   ],
   "source": [
    "import matplotlib.pyplot as plt\n",
    "vs.plot()\n",
    "plt.savefig('presupuesto.png')"
   ]
  },
  {
   "cell_type": "code",
   "execution_count": null,
   "metadata": {},
   "outputs": [],
   "source": []
  }
 ],
 "metadata": {
  "kernelspec": {
   "display_name": "Python 3",
   "language": "python",
   "name": "python3"
  },
  "language_info": {
   "codemirror_mode": {
    "name": "ipython",
    "version": 3
   },
   "file_extension": ".py",
   "mimetype": "text/x-python",
   "name": "python",
   "nbconvert_exporter": "python",
   "pygments_lexer": "ipython3",
   "version": "3.8.10"
  }
 },
 "nbformat": 4,
 "nbformat_minor": 4
}
